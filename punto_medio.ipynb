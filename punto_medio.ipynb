{
  "nbformat": 4,
  "nbformat_minor": 0,
  "metadata": {
    "colab": {
      "name": "punto_medio.ipynb",
      "provenance": [],
      "authorship_tag": "ABX9TyMDr/JGtlV5lV6DDaMkcJnK",
      "include_colab_link": true
    },
    "kernelspec": {
      "name": "python3",
      "display_name": "Python 3"
    },
    "language_info": {
      "name": "python"
    }
  },
  "cells": [
    {
      "cell_type": "markdown",
      "metadata": {
        "id": "view-in-github",
        "colab_type": "text"
      },
      "source": [
        "<a href=\"https://colab.research.google.com/github/andresvillamayor/Python-Algebra/blob/master/punto_medio.ipynb\" target=\"_parent\"><img src=\"https://colab.research.google.com/assets/colab-badge.svg\" alt=\"Open In Colab\"/></a>"
      ]
    },
    {
      "cell_type": "code",
      "metadata": {
        "id": "leZydvuZZ-ZE"
      },
      "source": [
        "from matplotlib import pyplot as plt"
      ],
      "execution_count": 7,
      "outputs": []
    },
    {
      "cell_type": "markdown",
      "metadata": {
        "id": "UhsdZebbe4mM"
      },
      "source": [
        "Se ingresan los puntos "
      ]
    },
    {
      "cell_type": "code",
      "metadata": {
        "id": "KnhZu554cG1e"
      },
      "source": [
        "punto1 = (1,3)\n",
        "punto2 = (2,4)"
      ],
      "execution_count": 2,
      "outputs": []
    },
    {
      "cell_type": "markdown",
      "metadata": {
        "id": "R6DVWd2Ge8En"
      },
      "source": [
        "Se calcula el punto medio  x1+x2 /2 , y1+y2/2"
      ]
    },
    {
      "cell_type": "code",
      "metadata": {
        "id": "miXsxnHmchNk"
      },
      "source": [
        "punto_medio_x = ((1+2)/2)\n",
        "punto_medio_y = ((3+4)/2) "
      ],
      "execution_count": 3,
      "outputs": []
    },
    {
      "cell_type": "code",
      "metadata": {
        "colab": {
          "base_uri": "https://localhost:8080/"
        },
        "id": "YG_FzGkTc-7q",
        "outputId": "bab73cd9-66ec-4496-8e70-1da9a2ff2457"
      },
      "source": [
        "print (punto_medio_x)\n",
        "print (punto_medio_y)"
      ],
      "execution_count": 4,
      "outputs": [
        {
          "output_type": "stream",
          "text": [
            "1.5\n",
            "3.5\n"
          ],
          "name": "stdout"
        }
      ]
    },
    {
      "cell_type": "markdown",
      "metadata": {
        "id": "T8Kg966qfIyw"
      },
      "source": [
        "Se imprime los valores en un plano cartesiano los puntos y el punto medio "
      ]
    },
    {
      "cell_type": "code",
      "metadata": {
        "colab": {
          "base_uri": "https://localhost:8080/",
          "height": 265
        },
        "id": "QvdgYiGydlz-",
        "outputId": "2e478d9c-5362-4f75-bf57-8ed0cde5df6a"
      },
      "source": [
        "plt.plot(1,3, marker=\"o\", color=\"red\")\n",
        "plt.plot(2,4, marker=\"o\", color=\"red\")\n",
        "plt.plot(punto_medio_x,punto_medio_y, marker=\"o\", color=\"blue\")\n",
        "plt.show()"
      ],
      "execution_count": 11,
      "outputs": [
        {
          "output_type": "display_data",
          "data": {
            "image/png": "[encoded data removed]",
            "text/plain": [
              "<Figure size 432x288 with 1 Axes>"
            ]
          },
          "metadata": {
            "tags": [],
            "needs_background": "light"
          }
        }
      ]
    }
  ]
}