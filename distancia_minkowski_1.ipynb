{
  "nbformat": 4,
  "nbformat_minor": 0,
  "metadata": {
    "colab": {
      "name": "distancia_minkowski_1.ipynb",
      "provenance": [],
      "authorship_tag": "ABX9TyOyaufRbRRzfOH5c6OWJP06",
      "include_colab_link": true
    },
    "kernelspec": {
      "name": "python3",
      "display_name": "Python 3"
    },
    "language_info": {
      "name": "python"
    }
  },
  "cells": [
    {
      "cell_type": "markdown",
      "metadata": {
        "id": "view-in-github",
        "colab_type": "text"
      },
      "source": [
        "<a href=\"https://colab.research.google.com/github/andresvillamayor/Python-Algebra/blob/master/distancia_minkowski_1.ipynb\" target=\"_parent\"><img src=\"https://colab.research.google.com/assets/colab-badge.svg\" alt=\"Open In Colab\"/></a>"
      ]
    },
    {
      "cell_type": "markdown",
      "metadata": {
        "id": "dMuQLOPLC5PA"
      },
      "source": [
        "Distancia Minkowski ( manhattan recibe un 3 parametro  valor = 1)"
      ]
    },
    {
      "cell_type": "code",
      "metadata": {
        "id": "RadDeHTnDJD-"
      },
      "source": [
        "from scipy.spatial import minkowski_distance"
      ],
      "execution_count": 1,
      "outputs": []
    },
    {
      "cell_type": "markdown",
      "metadata": {
        "id": "zms8eGoTDZEZ"
      },
      "source": [
        "Ingresa los puntos a se calulados"
      ]
    },
    {
      "cell_type": "code",
      "metadata": {
        "id": "xwKlFSkHDhFm"
      },
      "source": [
        "punto1 = 10\n",
        "punto2 = 12"
      ],
      "execution_count": 2,
      "outputs": []
    },
    {
      "cell_type": "markdown",
      "metadata": {
        "id": "ErpMBRC-DnWa"
      },
      "source": [
        "Calcular la distancia con el parametro 1 (manthattan)"
      ]
    },
    {
      "cell_type": "code",
      "metadata": {
        "colab": {
          "base_uri": "https://localhost:8080/"
        },
        "id": "_g88YrRTD14f",
        "outputId": "e14be781-940b-4e14-9dcb-fa4869f957b0"
      },
      "source": [
        "dist = minkowski_distance(punto1,punto2,1)\n",
        "print(dist)"
      ],
      "execution_count": 3,
      "outputs": [
        {
          "output_type": "stream",
          "text": [
            "2.0\n"
          ],
          "name": "stdout"
        }
      ]
    }
  ]
}