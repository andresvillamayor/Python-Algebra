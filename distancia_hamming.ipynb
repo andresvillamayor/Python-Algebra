{
  "nbformat": 4,
  "nbformat_minor": 0,
  "metadata": {
    "colab": {
      "name": "distancia_hamming.ipynb",
      "provenance": [],
      "authorship_tag": "ABX9TyOPqnrRSsO6ljXmWqlmEP+6",
      "include_colab_link": true
    },
    "kernelspec": {
      "name": "python3",
      "display_name": "Python 3"
    },
    "language_info": {
      "name": "python"
    }
  },
  "cells": [
    {
      "cell_type": "markdown",
      "metadata": {
        "id": "view-in-github",
        "colab_type": "text"
      },
      "source": [
        "<a href=\"https://colab.research.google.com/github/andresvillamayor/Python-Algebra/blob/master/distancia_hamming.ipynb\" target=\"_parent\"><img src=\"https://colab.research.google.com/assets/colab-badge.svg\" alt=\"Open In Colab\"/></a>"
      ]
    },
    {
      "cell_type": "markdown",
      "metadata": {
        "id": "m74XG2fdyppx"
      },
      "source": [
        "Calculo de la distancia de Hamming utilizando Scipy"
      ]
    },
    {
      "cell_type": "code",
      "metadata": {
        "id": "e2wVaCtiyvms"
      },
      "source": [
        "from scipy.spatial.distance import hamming"
      ],
      "execution_count": 1,
      "outputs": []
    },
    {
      "cell_type": "markdown",
      "metadata": {
        "id": "q93x8F4GzBIp"
      },
      "source": [
        "Generar los puntos \n",
        "En este ejemplo toma valores categoricos "
      ]
    },
    {
      "cell_type": "code",
      "metadata": {
        "id": "CPqLiKk5zE0k"
      },
      "source": [
        "punto1 = 'M'\n",
        "punto2 = 'F'"
      ],
      "execution_count": 4,
      "outputs": []
    },
    {
      "cell_type": "code",
      "metadata": {
        "colab": {
          "base_uri": "https://localhost:8080/"
        },
        "id": "x_jo9IL-zM7K",
        "outputId": "5a8fe458-78d7-4a1c-e1a8-74a017d0922e"
      },
      "source": [
        "dist = hamming(punto1, punto2)\n",
        "print (dist)"
      ],
      "execution_count": 5,
      "outputs": [
        {
          "output_type": "stream",
          "text": [
            "1.0\n"
          ],
          "name": "stdout"
        }
      ]
    }
  ]
}