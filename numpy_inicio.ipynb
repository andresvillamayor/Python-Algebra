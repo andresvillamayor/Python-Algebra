{
  "nbformat": 4,
  "nbformat_minor": 0,
  "metadata": {
    "colab": {
      "name": "numpy_inicio.ipynb",
      "provenance": [],
      "authorship_tag": "ABX9TyNp7wQ6X1BOn4atXJKfVQve",
      "include_colab_link": true
    },
    "kernelspec": {
      "name": "python3",
      "display_name": "Python 3"
    },
    "language_info": {
      "name": "python"
    }
  },
  "cells": [
    {
      "cell_type": "markdown",
      "metadata": {
        "id": "view-in-github",
        "colab_type": "text"
      },
      "source": [
        "<a href=\"https://colab.research.google.com/github/andresvillamayor/Python-Geometria-Analitica/blob/master/numpy_inicio.ipynb\" target=\"_parent\"><img src=\"https://colab.research.google.com/assets/colab-badge.svg\" alt=\"Open In Colab\"/></a>"
      ]
    },
    {
      "cell_type": "markdown",
      "metadata": {
        "id": "CUVspQgdQoAA"
      },
      "source": [
        "Usando Numpy"
      ]
    },
    {
      "cell_type": "code",
      "metadata": {
        "id": "GXzzyJHHRGOb"
      },
      "source": [
        "import numpy as np"
      ],
      "execution_count": 1,
      "outputs": []
    },
    {
      "cell_type": "code",
      "metadata": {
        "colab": {
          "base_uri": "https://localhost:8080/"
        },
        "id": "iscw9NTAQqr8",
        "outputId": "2b5f399f-02ba-4db3-bebd-f7dcefbee9e7"
      },
      "source": [
        "#  Constante y funciones matematicas \n",
        "print (np.e)  #  valor de E\n",
        "print (np.pi) #  valor de pi\n",
        "print (np.log(2))  #  valor de logaritmo de 2 "
      ],
      "execution_count": 5,
      "outputs": [
        {
          "output_type": "stream",
          "text": [
            "2.718281828459045\n",
            "3.141592653589793\n",
            "0.6931471805599453\n"
          ],
          "name": "stdout"
        }
      ]
    },
    {
      "cell_type": "markdown",
      "metadata": {
        "id": "H6B_ZmDdR48-"
      },
      "source": [
        "Coleccion de elementos "
      ]
    },
    {
      "cell_type": "code",
      "metadata": {
        "colab": {
          "base_uri": "https://localhost:8080/"
        },
        "id": "tsm8-D4HR8rL",
        "outputId": "f1b2b112-760d-4740-f534-15eceb6a7a42"
      },
      "source": [
        "np.array([1,2,3])"
      ],
      "execution_count": 6,
      "outputs": [
        {
          "output_type": "execute_result",
          "data": {
            "text/plain": [
              "array([1, 2, 3])"
            ]
          },
          "metadata": {
            "tags": []
          },
          "execution_count": 6
        }
      ]
    },
    {
      "cell_type": "markdown",
      "metadata": {
        "id": "pravazqdSM7E"
      },
      "source": [
        "Saber el tipo de datos de la coleccion"
      ]
    },
    {
      "cell_type": "code",
      "metadata": {
        "colab": {
          "base_uri": "https://localhost:8080/"
        },
        "id": "Nl7d1HJmSVRO",
        "outputId": "a13a5f23-ae84-45f4-d234-59a7e1458205"
      },
      "source": [
        "a = np.array([3,4,5])\n",
        "a.dtype  #  Valor de dato int"
      ],
      "execution_count": 8,
      "outputs": [
        {
          "output_type": "execute_result",
          "data": {
            "text/plain": [
              "dtype('int64')"
            ]
          },
          "metadata": {
            "tags": []
          },
          "execution_count": 8
        }
      ]
    },
    {
      "cell_type": "code",
      "metadata": {
        "colab": {
          "base_uri": "https://localhost:8080/"
        },
        "id": "tOtzf_eaSp-F",
        "outputId": "0f7b2cdb-ca2a-421b-dcb0-aef243412cd7"
      },
      "source": [
        "b = np.array([1.,2.0,3.1])\n",
        "b.dtype  #  valor de dato float"
      ],
      "execution_count": 9,
      "outputs": [
        {
          "output_type": "execute_result",
          "data": {
            "text/plain": [
              "dtype('float64')"
            ]
          },
          "metadata": {
            "tags": []
          },
          "execution_count": 9
        }
      ]
    },
    {
      "cell_type": "markdown",
      "metadata": {
        "id": "c0YdcXoETVpb"
      },
      "source": [
        "Cambiar los valores del array "
      ]
    },
    {
      "cell_type": "code",
      "metadata": {
        "colab": {
          "base_uri": "https://localhost:8080/"
        },
        "id": "RFx_qUPHTaUT",
        "outputId": "658faea1-61dd-4710-c5ea-e4936d73bf9a"
      },
      "source": [
        "a = np.array([1,2,3],dtype= float)  # se cambio un array de numero enteros a float \n",
        "print (a)\n",
        "print (a.dtype)"
      ],
      "execution_count": 12,
      "outputs": [
        {
          "output_type": "stream",
          "text": [
            "[1. 2. 3.]\n",
            "float64\n"
          ],
          "name": "stdout"
        }
      ]
    },
    {
      "cell_type": "code",
      "metadata": {
        "colab": {
          "base_uri": "https://localhost:8080/"
        },
        "id": "Su6NQl6ET8E3",
        "outputId": "44475447-863f-4771-82b9-1fd25b22541b"
      },
      "source": [
        "b = np.array([1,2,3],dtype = complex) #  se cambia  un array de numero entros a complex\n",
        "print (b)\n",
        "print (b.dtype)"
      ],
      "execution_count": 13,
      "outputs": [
        {
          "output_type": "stream",
          "text": [
            "[1.+0.j 2.+0.j 3.+0.j]\n",
            "complex128\n"
          ],
          "name": "stdout"
        }
      ]
    },
    {
      "cell_type": "markdown",
      "metadata": {
        "id": "2pe2DcYdXUdn"
      },
      "source": [
        "Otra forma es usado astype"
      ]
    },
    {
      "cell_type": "code",
      "metadata": {
        "colab": {
          "base_uri": "https://localhost:8080/"
        },
        "id": "tySJ0fbsXYHN",
        "outputId": "e46086cd-c465-49a7-eb41-b91d270712e5"
      },
      "source": [
        "x = np.array([1,2,2.5])\n",
        "print (x)"
      ],
      "execution_count": 19,
      "outputs": [
        {
          "output_type": "stream",
          "text": [
            "[1.  2.  2.5]\n"
          ],
          "name": "stdout"
        }
      ]
    },
    {
      "cell_type": "code",
      "metadata": {
        "colab": {
          "base_uri": "https://localhost:8080/"
        },
        "id": "wIrUMST5ZOCO",
        "outputId": "7e01a20e-9575-40ee-eb33-7d5836f62ddf"
      },
      "source": [
        "x.astype(int) #  pasa a valor integer "
      ],
      "execution_count": 21,
      "outputs": [
        {
          "output_type": "execute_result",
          "data": {
            "text/plain": [
              "array([1, 2, 2])"
            ]
          },
          "metadata": {
            "tags": []
          },
          "execution_count": 21
        }
      ]
    }
  ]
}