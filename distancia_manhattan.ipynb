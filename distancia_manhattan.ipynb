{
  "nbformat": 4,
  "nbformat_minor": 0,
  "metadata": {
    "colab": {
      "name": "distancia_manhattan.ipynb",
      "provenance": [],
      "authorship_tag": "ABX9TyP70zUX2CFad8YhVhKs4QZo",
      "include_colab_link": true
    },
    "kernelspec": {
      "name": "python3",
      "display_name": "Python 3"
    },
    "language_info": {
      "name": "python"
    }
  },
  "cells": [
    {
      "cell_type": "markdown",
      "metadata": {
        "id": "view-in-github",
        "colab_type": "text"
      },
      "source": [
        "<a href=\"https://colab.research.google.com/github/andresvillamayor/Python-Algebra/blob/master/distancia_manhattan.ipynb\" target=\"_parent\"><img src=\"https://colab.research.google.com/assets/colab-badge.svg\" alt=\"Open In Colab\"/></a>"
      ]
    },
    {
      "cell_type": "markdown",
      "metadata": {
        "id": "sGsjRjhy7WT0"
      },
      "source": [
        "Distancia Manhattan ( taxicab o city block) "
      ]
    },
    {
      "cell_type": "code",
      "metadata": {
        "id": "Xx-DJ6FZ7qMp"
      },
      "source": [
        "from scipy.spatial.distance import cityblock"
      ],
      "execution_count": 2,
      "outputs": []
    },
    {
      "cell_type": "markdown",
      "metadata": {
        "id": "y7EHPkMf8Wp8"
      },
      "source": [
        "Definir los puntos "
      ]
    },
    {
      "cell_type": "code",
      "metadata": {
        "id": "QnATjg368Twm"
      },
      "source": [
        "punto1 = (10)\n",
        "punto2 = (12)"
      ],
      "execution_count": 3,
      "outputs": []
    },
    {
      "cell_type": "markdown",
      "metadata": {
        "id": "ULP0_6ks8ivi"
      },
      "source": [
        "Calcular la distancia e imprimir resultado "
      ]
    },
    {
      "cell_type": "code",
      "metadata": {
        "colab": {
          "base_uri": "https://localhost:8080/"
        },
        "id": "kdqBgqd68iQF",
        "outputId": "1043b378-1fef-48f7-be17-789cdea8ca9e"
      },
      "source": [
        "dist= cityblock(punto1,punto2)\n",
        "print (dist)"
      ],
      "execution_count": 5,
      "outputs": [
        {
          "output_type": "stream",
          "text": [
            "2\n"
          ],
          "name": "stdout"
        }
      ]
    }
  ]
}