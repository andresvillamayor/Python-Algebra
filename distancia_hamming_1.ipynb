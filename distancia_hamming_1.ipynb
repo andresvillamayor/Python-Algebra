{
  "nbformat": 4,
  "nbformat_minor": 0,
  "metadata": {
    "colab": {
      "name": "distancia_hamming_1.ipynb",
      "provenance": [],
      "authorship_tag": "ABX9TyMiRZJZgbrl5t2LirXBOVG3",
      "include_colab_link": true
    },
    "kernelspec": {
      "name": "python3",
      "display_name": "Python 3"
    },
    "language_info": {
      "name": "python"
    }
  },
  "cells": [
    {
      "cell_type": "markdown",
      "metadata": {
        "id": "view-in-github",
        "colab_type": "text"
      },
      "source": [
        "<a href=\"https://colab.research.google.com/github/andresvillamayor/Python-Algebra/blob/master/distancia_hamming_1.ipynb\" target=\"_parent\"><img src=\"https://colab.research.google.com/assets/colab-badge.svg\" alt=\"Open In Colab\"/></a>"
      ]
    },
    {
      "cell_type": "markdown",
      "metadata": {
        "id": "MnxoG2-b0Vmv"
      },
      "source": [
        "Calcular la distancia de hamming con Scipy \n",
        "Utilzando vairables No Discretas"
      ]
    },
    {
      "cell_type": "code",
      "metadata": {
        "id": "_sV1guHi0ooT"
      },
      "source": [
        "from scipy.spatial.distance import hamming"
      ],
      "execution_count": 1,
      "outputs": []
    },
    {
      "cell_type": "markdown",
      "metadata": {
        "id": "gAzO99n804NT"
      },
      "source": [
        "Se genera los dos puntos"
      ]
    },
    {
      "cell_type": "code",
      "metadata": {
        "id": "_56gEef809MR"
      },
      "source": [
        "punto1 = 0\n",
        "punto2 = 1"
      ],
      "execution_count": 2,
      "outputs": []
    },
    {
      "cell_type": "markdown",
      "metadata": {
        "id": "IUcVaZ9p1B_t"
      },
      "source": [
        "Generar la distancia e imprimir la misma "
      ]
    },
    {
      "cell_type": "code",
      "metadata": {
        "colab": {
          "base_uri": "https://localhost:8080/"
        },
        "id": "a3De_ucJ1J5F",
        "outputId": "c9626f7b-8dcb-4f48-d147-0c6e7ef2201e"
      },
      "source": [
        "dist = hamming(punto1,punto2)\n",
        "print(dist)"
      ],
      "execution_count": 3,
      "outputs": [
        {
          "output_type": "stream",
          "text": [
            "1.0\n"
          ],
          "name": "stdout"
        }
      ]
    }
  ]
}