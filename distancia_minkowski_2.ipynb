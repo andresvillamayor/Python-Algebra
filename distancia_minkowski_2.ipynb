{
  "nbformat": 4,
  "nbformat_minor": 0,
  "metadata": {
    "colab": {
      "name": "distancia_minkowski_2.ipynb",
      "provenance": [],
      "authorship_tag": "ABX9TyO2P1713esd1tCqz7NtU2s6",
      "include_colab_link": true
    },
    "kernelspec": {
      "name": "python3",
      "display_name": "Python 3"
    },
    "language_info": {
      "name": "python"
    }
  },
  "cells": [
    {
      "cell_type": "markdown",
      "metadata": {
        "id": "view-in-github",
        "colab_type": "text"
      },
      "source": [
        "<a href=\"https://colab.research.google.com/github/andresvillamayor/Python-Algebra/blob/master/distancia_minkowski_2.ipynb\" target=\"_parent\"><img src=\"https://colab.research.google.com/assets/colab-badge.svg\" alt=\"Open In Colab\"/></a>"
      ]
    },
    {
      "cell_type": "markdown",
      "metadata": {
        "id": "i0yQGDHWA9Po"
      },
      "source": [
        "Distancia Minkowski - euclidean"
      ]
    },
    {
      "cell_type": "code",
      "metadata": {
        "id": "ZyOJYbThBKQe"
      },
      "source": [
        "from scipy.spatial import minkowski_distance "
      ],
      "execution_count": 1,
      "outputs": []
    },
    {
      "cell_type": "markdown",
      "metadata": {
        "id": "00M2lR2UBlZv"
      },
      "source": [
        "La distancia Minkowski recibe un 3 parametro ( eculidean - valor = 2) "
      ]
    },
    {
      "cell_type": "code",
      "metadata": {
        "id": "Ex9jjiYcBvFm"
      },
      "source": [
        "punto1 = 10\n",
        "punto2 = 12"
      ],
      "execution_count": 2,
      "outputs": []
    },
    {
      "cell_type": "markdown",
      "metadata": {
        "id": "sao0W7w9B2xb"
      },
      "source": [
        "Calcular la distancia e imprimir "
      ]
    },
    {
      "cell_type": "code",
      "metadata": {
        "colab": {
          "base_uri": "https://localhost:8080/"
        },
        "id": "QA1IcIuHB7iQ",
        "outputId": "4998b2f1-ecdf-47ca-f5b5-1e1199753b79"
      },
      "source": [
        "dist = minkowski_distance( punto1, punto2, 2)\n",
        "print(dist)"
      ],
      "execution_count": 4,
      "outputs": [
        {
          "output_type": "stream",
          "text": [
            "2.0\n"
          ],
          "name": "stdout"
        }
      ]
    }
  ]
}