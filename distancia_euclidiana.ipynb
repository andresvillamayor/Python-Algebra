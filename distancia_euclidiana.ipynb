{
  "nbformat": 4,
  "nbformat_minor": 0,
  "metadata": {
    "colab": {
      "name": "distancia_euclidiana.ipynb",
      "provenance": [],
      "authorship_tag": "ABX9TyOLrGxoXQhe3FxTcKCknJGT",
      "include_colab_link": true
    },
    "kernelspec": {
      "name": "python3",
      "display_name": "Python 3"
    },
    "language_info": {
      "name": "python"
    }
  },
  "cells": [
    {
      "cell_type": "markdown",
      "metadata": {
        "id": "view-in-github",
        "colab_type": "text"
      },
      "source": [
        "<a href=\"https://colab.research.google.com/github/andresvillamayor/Python-Algebra/blob/master/distancia_euclidiana.ipynb\" target=\"_parent\"><img src=\"https://colab.research.google.com/assets/colab-badge.svg\" alt=\"Open In Colab\"/></a>"
      ]
    },
    {
      "cell_type": "markdown",
      "metadata": {
        "id": "km8Labf5s9tx"
      },
      "source": [
        "Distancia Euclediana usando Scipy "
      ]
    },
    {
      "cell_type": "code",
      "metadata": {
        "id": "Z55FJj2FtE6U"
      },
      "source": [
        "from scipy.spatial.distance import euclidean"
      ],
      "execution_count": null,
      "outputs": []
    },
    {
      "cell_type": "markdown",
      "metadata": {
        "id": "uNekjbzltQNw"
      },
      "source": [
        "Definimos  las puntos"
      ]
    },
    {
      "cell_type": "code",
      "metadata": {
        "id": "JtI8DoH6tT0y"
      },
      "source": [
        "punto1 = (1,3)\n",
        "punto2 = (2,4)"
      ],
      "execution_count": null,
      "outputs": []
    },
    {
      "cell_type": "markdown",
      "metadata": {
        "id": "q12_t-z7tgW4"
      },
      "source": [
        "Se calcula la distancia y se imprime el valor del mismo "
      ]
    },
    {
      "cell_type": "code",
      "metadata": {
        "colab": {
          "base_uri": "https://localhost:8080/"
        },
        "id": "ho1DbzAstf5O",
        "outputId": "55d1ab7c-2802-45f1-c2db-c662846ffe9d"
      },
      "source": [
        "dist = euclidean(punto1,punto2)\n",
        "print (dist)"
      ],
      "execution_count": null,
      "outputs": [
        {
          "output_type": "stream",
          "text": [
            "1.4142135623730951\n"
          ],
          "name": "stdout"
        }
      ]
    }
  ]
}